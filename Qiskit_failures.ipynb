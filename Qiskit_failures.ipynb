{
 "cells": [
  {
   "cell_type": "code",
   "execution_count": 6,
   "id": "cb6c1d58-788d-4aba-aabe-f270ed2aad7a",
   "metadata": {},
   "outputs": [],
   "source": [
    "from qiskit import QuantumCircuit\n",
    "from qiskit.quantum_info import Clifford\n",
    "from qiskit.compiler import transpile"
   ]
  },
  {
   "cell_type": "code",
   "execution_count": 17,
   "id": "52623dad-405d-4ded-8d16-cb5140f0c728",
   "metadata": {},
   "outputs": [
    {
     "data": {
      "text/plain": [
       "<qiskit.circuit.instructionset.InstructionSet at 0x7f60621a5c00>"
      ]
     },
     "execution_count": 17,
     "metadata": {},
     "output_type": "execute_result"
    }
   ],
   "source": [
    "import numpy as np\n",
    "\n",
    "qc = QuantumCircuit(1)\n",
    "qc.rz(np.pi, 0)"
   ]
  },
  {
   "cell_type": "code",
   "execution_count": 18,
   "id": "e4fd9c4f-5e86-43eb-a9a3-0938f6210b46",
   "metadata": {},
   "outputs": [
    {
     "ename": "TranspilerError",
     "evalue": "\"Unable to map source basis {('rz', 1)} to target basis {'h', 'z', 'snapshot', 'delay', 'barrier', 'cx', 'measure', 't', 'reset', 's'} over library <qiskit.circuit.equivalence.EquivalenceLibrary object at 0x7f6062d3cbb0>.\"",
     "output_type": "error",
     "traceback": [
      "\u001b[0;31m---------------------------------------------------------------------------\u001b[0m",
      "\u001b[0;31mTranspilerError\u001b[0m                           Traceback (most recent call last)",
      "\u001b[1;32m/home/varunseshadri/quantum-playground/qosf-march-tasks/Untitled.ipynb Cell 3'\u001b[0m in \u001b[0;36m<module>\u001b[0;34m\u001b[0m\n\u001b[1;32m      <a href='vscode-notebook-cell://wsl%2Bubuntu/home/varunseshadri/quantum-playground/qosf-march-tasks/Untitled.ipynb#ch0000002vscode-remote?line=0'>1</a>\u001b[0m basis_gates \u001b[39m=\u001b[39m [\u001b[39m'\u001b[39m\u001b[39mh\u001b[39m\u001b[39m'\u001b[39m,\u001b[39m'\u001b[39m\u001b[39mcx\u001b[39m\u001b[39m'\u001b[39m,\u001b[39m'\u001b[39m\u001b[39ms\u001b[39m\u001b[39m'\u001b[39m,\u001b[39m'\u001b[39m\u001b[39mt\u001b[39m\u001b[39m'\u001b[39m,\u001b[39m'\u001b[39m\u001b[39mz\u001b[39m\u001b[39m'\u001b[39m]\n\u001b[0;32m----> <a href='vscode-notebook-cell://wsl%2Bubuntu/home/varunseshadri/quantum-playground/qosf-march-tasks/Untitled.ipynb#ch0000002vscode-remote?line=1'>2</a>\u001b[0m transpile(qc, basis_gates\u001b[39m=\u001b[39;49mbasis_gates,unitary_synthesis_method\u001b[39m=\u001b[39;49m\u001b[39m'\u001b[39;49m\u001b[39maqc\u001b[39;49m\u001b[39m'\u001b[39;49m)\n",
      "File \u001b[0;32m~/.pyenv/versions/3.9.8/envs/qosf-march-tasks/lib/python3.9/site-packages/qiskit/compiler/transpiler.py:335\u001b[0m, in \u001b[0;36mtranspile\u001b[0;34m(circuits, backend, basis_gates, inst_map, coupling_map, backend_properties, initial_layout, layout_method, routing_method, translation_method, scheduling_method, instruction_durations, dt, approximation_degree, timing_constraints, seed_transpiler, optimization_level, pass_manager, callback, output_name, unitary_synthesis_method, unitary_synthesis_plugin_config, target)\u001b[0m\n\u001b[1;32m    <a href='file:///~/.pyenv/versions/3.9.8/envs/qosf-march-tasks/lib/python3.9/site-packages/qiskit/compiler/transpiler.py?line=331'>332</a>\u001b[0m _check_circuits_coupling_map(circuits, transpile_args, backend)\n\u001b[1;32m    <a href='file:///~/.pyenv/versions/3.9.8/envs/qosf-march-tasks/lib/python3.9/site-packages/qiskit/compiler/transpiler.py?line=333'>334</a>\u001b[0m \u001b[39m# Transpile circuits in parallel\u001b[39;00m\n\u001b[0;32m--> <a href='file:///~/.pyenv/versions/3.9.8/envs/qosf-march-tasks/lib/python3.9/site-packages/qiskit/compiler/transpiler.py?line=334'>335</a>\u001b[0m circuits \u001b[39m=\u001b[39m parallel_map(_transpile_circuit, \u001b[39mlist\u001b[39;49m(\u001b[39mzip\u001b[39;49m(circuits, transpile_args)))\n\u001b[1;32m    <a href='file:///~/.pyenv/versions/3.9.8/envs/qosf-march-tasks/lib/python3.9/site-packages/qiskit/compiler/transpiler.py?line=336'>337</a>\u001b[0m end_time \u001b[39m=\u001b[39m time()\n\u001b[1;32m    <a href='file:///~/.pyenv/versions/3.9.8/envs/qosf-march-tasks/lib/python3.9/site-packages/qiskit/compiler/transpiler.py?line=337'>338</a>\u001b[0m _log_transpile_time(start_time, end_time)\n",
      "File \u001b[0;32m~/.pyenv/versions/3.9.8/envs/qosf-march-tasks/lib/python3.9/site-packages/qiskit/tools/parallel.py:132\u001b[0m, in \u001b[0;36mparallel_map\u001b[0;34m(task, values, task_args, task_kwargs, num_processes)\u001b[0m\n\u001b[1;32m    <a href='file:///~/.pyenv/versions/3.9.8/envs/qosf-march-tasks/lib/python3.9/site-packages/qiskit/tools/parallel.py?line=129'>130</a>\u001b[0m     \u001b[39mreturn\u001b[39;00m []\n\u001b[1;32m    <a href='file:///~/.pyenv/versions/3.9.8/envs/qosf-march-tasks/lib/python3.9/site-packages/qiskit/tools/parallel.py?line=130'>131</a>\u001b[0m \u001b[39mif\u001b[39;00m \u001b[39mlen\u001b[39m(values) \u001b[39m==\u001b[39m \u001b[39m1\u001b[39m:\n\u001b[0;32m--> <a href='file:///~/.pyenv/versions/3.9.8/envs/qosf-march-tasks/lib/python3.9/site-packages/qiskit/tools/parallel.py?line=131'>132</a>\u001b[0m     \u001b[39mreturn\u001b[39;00m [task(values[\u001b[39m0\u001b[39;49m], \u001b[39m*\u001b[39;49mtask_args, \u001b[39m*\u001b[39;49m\u001b[39m*\u001b[39;49mtask_kwargs)]\n\u001b[1;32m    <a href='file:///~/.pyenv/versions/3.9.8/envs/qosf-march-tasks/lib/python3.9/site-packages/qiskit/tools/parallel.py?line=133'>134</a>\u001b[0m Publisher()\u001b[39m.\u001b[39mpublish(\u001b[39m\"\u001b[39m\u001b[39mterra.parallel.start\u001b[39m\u001b[39m\"\u001b[39m, \u001b[39mlen\u001b[39m(values))\n\u001b[1;32m    <a href='file:///~/.pyenv/versions/3.9.8/envs/qosf-march-tasks/lib/python3.9/site-packages/qiskit/tools/parallel.py?line=134'>135</a>\u001b[0m nfinished \u001b[39m=\u001b[39m [\u001b[39m0\u001b[39m]\n",
      "File \u001b[0;32m~/.pyenv/versions/3.9.8/envs/qosf-march-tasks/lib/python3.9/site-packages/qiskit/compiler/transpiler.py:429\u001b[0m, in \u001b[0;36m_transpile_circuit\u001b[0;34m(circuit_config_tuple)\u001b[0m\n\u001b[1;32m    <a href='file:///~/.pyenv/versions/3.9.8/envs/qosf-march-tasks/lib/python3.9/site-packages/qiskit/compiler/transpiler.py?line=425'>426</a>\u001b[0m \u001b[39melse\u001b[39;00m:\n\u001b[1;32m    <a href='file:///~/.pyenv/versions/3.9.8/envs/qosf-march-tasks/lib/python3.9/site-packages/qiskit/compiler/transpiler.py?line=426'>427</a>\u001b[0m     \u001b[39mraise\u001b[39;00m TranspilerError(\u001b[39m\"\u001b[39m\u001b[39moptimization_level can range from 0 to 3.\u001b[39m\u001b[39m\"\u001b[39m)\n\u001b[0;32m--> <a href='file:///~/.pyenv/versions/3.9.8/envs/qosf-march-tasks/lib/python3.9/site-packages/qiskit/compiler/transpiler.py?line=428'>429</a>\u001b[0m result \u001b[39m=\u001b[39m pass_manager\u001b[39m.\u001b[39;49mrun(\n\u001b[1;32m    <a href='file:///~/.pyenv/versions/3.9.8/envs/qosf-march-tasks/lib/python3.9/site-packages/qiskit/compiler/transpiler.py?line=429'>430</a>\u001b[0m     circuit, callback\u001b[39m=\u001b[39;49mtranspile_config[\u001b[39m\"\u001b[39;49m\u001b[39mcallback\u001b[39;49m\u001b[39m\"\u001b[39;49m], output_name\u001b[39m=\u001b[39;49mtranspile_config[\u001b[39m\"\u001b[39;49m\u001b[39moutput_name\u001b[39;49m\u001b[39m\"\u001b[39;49m]\n\u001b[1;32m    <a href='file:///~/.pyenv/versions/3.9.8/envs/qosf-march-tasks/lib/python3.9/site-packages/qiskit/compiler/transpiler.py?line=430'>431</a>\u001b[0m )\n\u001b[1;32m    <a href='file:///~/.pyenv/versions/3.9.8/envs/qosf-march-tasks/lib/python3.9/site-packages/qiskit/compiler/transpiler.py?line=432'>433</a>\u001b[0m \u001b[39mif\u001b[39;00m transpile_config[\u001b[39m\"\u001b[39m\u001b[39mfaulty_qubits_map\u001b[39m\u001b[39m\"\u001b[39m]:\n\u001b[1;32m    <a href='file:///~/.pyenv/versions/3.9.8/envs/qosf-march-tasks/lib/python3.9/site-packages/qiskit/compiler/transpiler.py?line=433'>434</a>\u001b[0m     \u001b[39mreturn\u001b[39;00m _remap_circuit_faulty_backend(\n\u001b[1;32m    <a href='file:///~/.pyenv/versions/3.9.8/envs/qosf-march-tasks/lib/python3.9/site-packages/qiskit/compiler/transpiler.py?line=434'>435</a>\u001b[0m         result,\n\u001b[1;32m    <a href='file:///~/.pyenv/versions/3.9.8/envs/qosf-march-tasks/lib/python3.9/site-packages/qiskit/compiler/transpiler.py?line=435'>436</a>\u001b[0m         transpile_config[\u001b[39m\"\u001b[39m\u001b[39mbackend_num_qubits\u001b[39m\u001b[39m\"\u001b[39m],\n\u001b[1;32m    <a href='file:///~/.pyenv/versions/3.9.8/envs/qosf-march-tasks/lib/python3.9/site-packages/qiskit/compiler/transpiler.py?line=436'>437</a>\u001b[0m         pass_manager_config\u001b[39m.\u001b[39mbackend_properties,\n\u001b[1;32m    <a href='file:///~/.pyenv/versions/3.9.8/envs/qosf-march-tasks/lib/python3.9/site-packages/qiskit/compiler/transpiler.py?line=437'>438</a>\u001b[0m         transpile_config[\u001b[39m\"\u001b[39m\u001b[39mfaulty_qubits_map\u001b[39m\u001b[39m\"\u001b[39m],\n\u001b[1;32m    <a href='file:///~/.pyenv/versions/3.9.8/envs/qosf-march-tasks/lib/python3.9/site-packages/qiskit/compiler/transpiler.py?line=438'>439</a>\u001b[0m     )\n",
      "File \u001b[0;32m~/.pyenv/versions/3.9.8/envs/qosf-march-tasks/lib/python3.9/site-packages/qiskit/transpiler/passmanager.py:218\u001b[0m, in \u001b[0;36mPassManager.run\u001b[0;34m(self, circuits, output_name, callback)\u001b[0m\n\u001b[1;32m    <a href='file:///~/.pyenv/versions/3.9.8/envs/qosf-march-tasks/lib/python3.9/site-packages/qiskit/transpiler/passmanager.py?line=215'>216</a>\u001b[0m     \u001b[39mreturn\u001b[39;00m circuits\n\u001b[1;32m    <a href='file:///~/.pyenv/versions/3.9.8/envs/qosf-march-tasks/lib/python3.9/site-packages/qiskit/transpiler/passmanager.py?line=216'>217</a>\u001b[0m \u001b[39mif\u001b[39;00m \u001b[39misinstance\u001b[39m(circuits, QuantumCircuit):\n\u001b[0;32m--> <a href='file:///~/.pyenv/versions/3.9.8/envs/qosf-march-tasks/lib/python3.9/site-packages/qiskit/transpiler/passmanager.py?line=217'>218</a>\u001b[0m     \u001b[39mreturn\u001b[39;00m \u001b[39mself\u001b[39;49m\u001b[39m.\u001b[39;49m_run_single_circuit(circuits, output_name, callback)\n\u001b[1;32m    <a href='file:///~/.pyenv/versions/3.9.8/envs/qosf-march-tasks/lib/python3.9/site-packages/qiskit/transpiler/passmanager.py?line=218'>219</a>\u001b[0m \u001b[39mif\u001b[39;00m \u001b[39mlen\u001b[39m(circuits) \u001b[39m==\u001b[39m \u001b[39m1\u001b[39m:\n\u001b[1;32m    <a href='file:///~/.pyenv/versions/3.9.8/envs/qosf-march-tasks/lib/python3.9/site-packages/qiskit/transpiler/passmanager.py?line=219'>220</a>\u001b[0m     \u001b[39mreturn\u001b[39;00m \u001b[39mself\u001b[39m\u001b[39m.\u001b[39m_run_single_circuit(circuits[\u001b[39m0\u001b[39m], output_name, callback)\n",
      "File \u001b[0;32m~/.pyenv/versions/3.9.8/envs/qosf-march-tasks/lib/python3.9/site-packages/qiskit/transpiler/passmanager.py:273\u001b[0m, in \u001b[0;36mPassManager._run_single_circuit\u001b[0;34m(self, circuit, output_name, callback)\u001b[0m\n\u001b[1;32m    <a href='file:///~/.pyenv/versions/3.9.8/envs/qosf-march-tasks/lib/python3.9/site-packages/qiskit/transpiler/passmanager.py?line=260'>261</a>\u001b[0m \u001b[39m\"\"\"Run all the passes on a ``circuit``.\u001b[39;00m\n\u001b[1;32m    <a href='file:///~/.pyenv/versions/3.9.8/envs/qosf-march-tasks/lib/python3.9/site-packages/qiskit/transpiler/passmanager.py?line=261'>262</a>\u001b[0m \n\u001b[1;32m    <a href='file:///~/.pyenv/versions/3.9.8/envs/qosf-march-tasks/lib/python3.9/site-packages/qiskit/transpiler/passmanager.py?line=262'>263</a>\u001b[0m \u001b[39mArgs:\u001b[39;00m\n\u001b[0;32m   (...)\u001b[0m\n\u001b[1;32m    <a href='file:///~/.pyenv/versions/3.9.8/envs/qosf-march-tasks/lib/python3.9/site-packages/qiskit/transpiler/passmanager.py?line=269'>270</a>\u001b[0m \u001b[39m    The transformed circuit.\u001b[39;00m\n\u001b[1;32m    <a href='file:///~/.pyenv/versions/3.9.8/envs/qosf-march-tasks/lib/python3.9/site-packages/qiskit/transpiler/passmanager.py?line=270'>271</a>\u001b[0m \u001b[39m\"\"\"\u001b[39;00m\n\u001b[1;32m    <a href='file:///~/.pyenv/versions/3.9.8/envs/qosf-march-tasks/lib/python3.9/site-packages/qiskit/transpiler/passmanager.py?line=271'>272</a>\u001b[0m running_passmanager \u001b[39m=\u001b[39m \u001b[39mself\u001b[39m\u001b[39m.\u001b[39m_create_running_passmanager()\n\u001b[0;32m--> <a href='file:///~/.pyenv/versions/3.9.8/envs/qosf-march-tasks/lib/python3.9/site-packages/qiskit/transpiler/passmanager.py?line=272'>273</a>\u001b[0m result \u001b[39m=\u001b[39m running_passmanager\u001b[39m.\u001b[39;49mrun(circuit, output_name\u001b[39m=\u001b[39;49moutput_name, callback\u001b[39m=\u001b[39;49mcallback)\n\u001b[1;32m    <a href='file:///~/.pyenv/versions/3.9.8/envs/qosf-march-tasks/lib/python3.9/site-packages/qiskit/transpiler/passmanager.py?line=273'>274</a>\u001b[0m \u001b[39mself\u001b[39m\u001b[39m.\u001b[39mproperty_set \u001b[39m=\u001b[39m running_passmanager\u001b[39m.\u001b[39mproperty_set\n\u001b[1;32m    <a href='file:///~/.pyenv/versions/3.9.8/envs/qosf-march-tasks/lib/python3.9/site-packages/qiskit/transpiler/passmanager.py?line=274'>275</a>\u001b[0m \u001b[39mreturn\u001b[39;00m result\n",
      "File \u001b[0;32m~/.pyenv/versions/3.9.8/envs/qosf-march-tasks/lib/python3.9/site-packages/qiskit/transpiler/runningpassmanager.py:123\u001b[0m, in \u001b[0;36mRunningPassManager.run\u001b[0;34m(***failed resolving arguments***)\u001b[0m\n\u001b[1;32m    <a href='file:///~/.pyenv/versions/3.9.8/envs/qosf-march-tasks/lib/python3.9/site-packages/qiskit/transpiler/runningpassmanager.py?line=120'>121</a>\u001b[0m \u001b[39mfor\u001b[39;00m passset \u001b[39min\u001b[39;00m \u001b[39mself\u001b[39m\u001b[39m.\u001b[39mworking_list:\n\u001b[1;32m    <a href='file:///~/.pyenv/versions/3.9.8/envs/qosf-march-tasks/lib/python3.9/site-packages/qiskit/transpiler/runningpassmanager.py?line=121'>122</a>\u001b[0m     \u001b[39mfor\u001b[39;00m pass_ \u001b[39min\u001b[39;00m passset:\n\u001b[0;32m--> <a href='file:///~/.pyenv/versions/3.9.8/envs/qosf-march-tasks/lib/python3.9/site-packages/qiskit/transpiler/runningpassmanager.py?line=122'>123</a>\u001b[0m         dag \u001b[39m=\u001b[39m \u001b[39mself\u001b[39;49m\u001b[39m.\u001b[39;49m_do_pass(pass_, dag, passset\u001b[39m.\u001b[39;49moptions)\n\u001b[1;32m    <a href='file:///~/.pyenv/versions/3.9.8/envs/qosf-march-tasks/lib/python3.9/site-packages/qiskit/transpiler/runningpassmanager.py?line=124'>125</a>\u001b[0m circuit \u001b[39m=\u001b[39m dag_to_circuit(dag)\n\u001b[1;32m    <a href='file:///~/.pyenv/versions/3.9.8/envs/qosf-march-tasks/lib/python3.9/site-packages/qiskit/transpiler/runningpassmanager.py?line=125'>126</a>\u001b[0m \u001b[39mif\u001b[39;00m output_name:\n",
      "File \u001b[0;32m~/.pyenv/versions/3.9.8/envs/qosf-march-tasks/lib/python3.9/site-packages/qiskit/transpiler/runningpassmanager.py:154\u001b[0m, in \u001b[0;36mRunningPassManager._do_pass\u001b[0;34m(self, pass_, dag, options)\u001b[0m\n\u001b[1;32m    <a href='file:///~/.pyenv/versions/3.9.8/envs/qosf-march-tasks/lib/python3.9/site-packages/qiskit/transpiler/runningpassmanager.py?line=151'>152</a>\u001b[0m \u001b[39m# Run the pass itself, if not already run\u001b[39;00m\n\u001b[1;32m    <a href='file:///~/.pyenv/versions/3.9.8/envs/qosf-march-tasks/lib/python3.9/site-packages/qiskit/transpiler/runningpassmanager.py?line=152'>153</a>\u001b[0m \u001b[39mif\u001b[39;00m pass_ \u001b[39mnot\u001b[39;00m \u001b[39min\u001b[39;00m \u001b[39mself\u001b[39m\u001b[39m.\u001b[39mvalid_passes:\n\u001b[0;32m--> <a href='file:///~/.pyenv/versions/3.9.8/envs/qosf-march-tasks/lib/python3.9/site-packages/qiskit/transpiler/runningpassmanager.py?line=153'>154</a>\u001b[0m     dag \u001b[39m=\u001b[39m \u001b[39mself\u001b[39;49m\u001b[39m.\u001b[39;49m_run_this_pass(pass_, dag)\n\u001b[1;32m    <a href='file:///~/.pyenv/versions/3.9.8/envs/qosf-march-tasks/lib/python3.9/site-packages/qiskit/transpiler/runningpassmanager.py?line=155'>156</a>\u001b[0m     \u001b[39m# update the valid_passes property\u001b[39;00m\n\u001b[1;32m    <a href='file:///~/.pyenv/versions/3.9.8/envs/qosf-march-tasks/lib/python3.9/site-packages/qiskit/transpiler/runningpassmanager.py?line=156'>157</a>\u001b[0m     \u001b[39mself\u001b[39m\u001b[39m.\u001b[39m_update_valid_passes(pass_)\n",
      "File \u001b[0;32m~/.pyenv/versions/3.9.8/envs/qosf-march-tasks/lib/python3.9/site-packages/qiskit/transpiler/runningpassmanager.py:166\u001b[0m, in \u001b[0;36mRunningPassManager._run_this_pass\u001b[0;34m(self, pass_, dag)\u001b[0m\n\u001b[1;32m    <a href='file:///~/.pyenv/versions/3.9.8/envs/qosf-march-tasks/lib/python3.9/site-packages/qiskit/transpiler/runningpassmanager.py?line=162'>163</a>\u001b[0m \u001b[39mif\u001b[39;00m pass_\u001b[39m.\u001b[39mis_transformation_pass:\n\u001b[1;32m    <a href='file:///~/.pyenv/versions/3.9.8/envs/qosf-march-tasks/lib/python3.9/site-packages/qiskit/transpiler/runningpassmanager.py?line=163'>164</a>\u001b[0m     \u001b[39m# Measure time if we have a callback or logging set\u001b[39;00m\n\u001b[1;32m    <a href='file:///~/.pyenv/versions/3.9.8/envs/qosf-march-tasks/lib/python3.9/site-packages/qiskit/transpiler/runningpassmanager.py?line=164'>165</a>\u001b[0m     start_time \u001b[39m=\u001b[39m time()\n\u001b[0;32m--> <a href='file:///~/.pyenv/versions/3.9.8/envs/qosf-march-tasks/lib/python3.9/site-packages/qiskit/transpiler/runningpassmanager.py?line=165'>166</a>\u001b[0m     new_dag \u001b[39m=\u001b[39m pass_\u001b[39m.\u001b[39;49mrun(dag)\n\u001b[1;32m    <a href='file:///~/.pyenv/versions/3.9.8/envs/qosf-march-tasks/lib/python3.9/site-packages/qiskit/transpiler/runningpassmanager.py?line=166'>167</a>\u001b[0m     end_time \u001b[39m=\u001b[39m time()\n\u001b[1;32m    <a href='file:///~/.pyenv/versions/3.9.8/envs/qosf-march-tasks/lib/python3.9/site-packages/qiskit/transpiler/runningpassmanager.py?line=167'>168</a>\u001b[0m     run_time \u001b[39m=\u001b[39m end_time \u001b[39m-\u001b[39m start_time\n",
      "File \u001b[0;32m~/.pyenv/versions/3.9.8/envs/qosf-march-tasks/lib/python3.9/site-packages/qiskit/transpiler/passes/basis/basis_translator.py:198\u001b[0m, in \u001b[0;36mBasisTranslator.run\u001b[0;34m(self, dag)\u001b[0m\n\u001b[1;32m    <a href='file:///~/.pyenv/versions/3.9.8/envs/qosf-march-tasks/lib/python3.9/site-packages/qiskit/transpiler/passes/basis/basis_translator.py?line=192'>193</a>\u001b[0m logger\u001b[39m.\u001b[39minfo(\n\u001b[1;32m    <a href='file:///~/.pyenv/versions/3.9.8/envs/qosf-march-tasks/lib/python3.9/site-packages/qiskit/transpiler/passes/basis/basis_translator.py?line=193'>194</a>\u001b[0m     \u001b[39m\"\u001b[39m\u001b[39mBasis translation path search completed in \u001b[39m\u001b[39m%.3f\u001b[39;00m\u001b[39ms.\u001b[39m\u001b[39m\"\u001b[39m, search_end_time \u001b[39m-\u001b[39m search_start_time\n\u001b[1;32m    <a href='file:///~/.pyenv/versions/3.9.8/envs/qosf-march-tasks/lib/python3.9/site-packages/qiskit/transpiler/passes/basis/basis_translator.py?line=194'>195</a>\u001b[0m )\n\u001b[1;32m    <a href='file:///~/.pyenv/versions/3.9.8/envs/qosf-march-tasks/lib/python3.9/site-packages/qiskit/transpiler/passes/basis/basis_translator.py?line=196'>197</a>\u001b[0m \u001b[39mif\u001b[39;00m basis_transforms \u001b[39mis\u001b[39;00m \u001b[39mNone\u001b[39;00m:\n\u001b[0;32m--> <a href='file:///~/.pyenv/versions/3.9.8/envs/qosf-march-tasks/lib/python3.9/site-packages/qiskit/transpiler/passes/basis/basis_translator.py?line=197'>198</a>\u001b[0m     \u001b[39mraise\u001b[39;00m TranspilerError(\n\u001b[1;32m    <a href='file:///~/.pyenv/versions/3.9.8/envs/qosf-march-tasks/lib/python3.9/site-packages/qiskit/transpiler/passes/basis/basis_translator.py?line=198'>199</a>\u001b[0m         \u001b[39m\"\u001b[39m\u001b[39mUnable to map source basis \u001b[39m\u001b[39m{}\u001b[39;00m\u001b[39m to target basis \u001b[39m\u001b[39m{}\u001b[39;00m\u001b[39m \u001b[39m\u001b[39m\"\u001b[39m\n\u001b[1;32m    <a href='file:///~/.pyenv/versions/3.9.8/envs/qosf-march-tasks/lib/python3.9/site-packages/qiskit/transpiler/passes/basis/basis_translator.py?line=199'>200</a>\u001b[0m         \u001b[39m\"\u001b[39m\u001b[39mover library \u001b[39m\u001b[39m{}\u001b[39;00m\u001b[39m.\u001b[39m\u001b[39m\"\u001b[39m\u001b[39m.\u001b[39mformat(source_basis, target_basis, \u001b[39mself\u001b[39m\u001b[39m.\u001b[39m_equiv_lib)\n\u001b[1;32m    <a href='file:///~/.pyenv/versions/3.9.8/envs/qosf-march-tasks/lib/python3.9/site-packages/qiskit/transpiler/passes/basis/basis_translator.py?line=200'>201</a>\u001b[0m     )\n\u001b[1;32m    <a href='file:///~/.pyenv/versions/3.9.8/envs/qosf-march-tasks/lib/python3.9/site-packages/qiskit/transpiler/passes/basis/basis_translator.py?line=202'>203</a>\u001b[0m \u001b[39m# Compose found path into a set of instruction substitution rules.\u001b[39;00m\n\u001b[1;32m    <a href='file:///~/.pyenv/versions/3.9.8/envs/qosf-march-tasks/lib/python3.9/site-packages/qiskit/transpiler/passes/basis/basis_translator.py?line=204'>205</a>\u001b[0m compose_start_time \u001b[39m=\u001b[39m time\u001b[39m.\u001b[39mtime()\n",
      "\u001b[0;31mTranspilerError\u001b[0m: \"Unable to map source basis {('rz', 1)} to target basis {'h', 'z', 'snapshot', 'delay', 'barrier', 'cx', 'measure', 't', 'reset', 's'} over library <qiskit.circuit.equivalence.EquivalenceLibrary object at 0x7f6062d3cbb0>.\""
     ]
    }
   ],
   "source": [
    "basis_gates = ['h','cx','s','t','z']\n",
    "transpile(qc, basis_gates=basis_gates,unitary_synthesis_method='aqc')"
   ]
  },
  {
   "cell_type": "code",
   "execution_count": 16,
   "id": "9277b3b7",
   "metadata": {},
   "outputs": [
    {
     "name": "stdout",
     "output_type": "stream",
     "text": [
      "   ┌───┐\n",
      "q: ┤ X ├\n",
      "   └───┘\n"
     ]
    }
   ],
   "source": [
    "print(qc)"
   ]
  }
 ],
 "metadata": {
  "kernelspec": {
   "display_name": "Python 3 (ipykernel)",
   "language": "python",
   "name": "python3"
  },
  "language_info": {
   "codemirror_mode": {
    "name": "ipython",
    "version": 3
   },
   "file_extension": ".py",
   "mimetype": "text/x-python",
   "name": "python",
   "nbconvert_exporter": "python",
   "pygments_lexer": "ipython3",
   "version": "3.9.8"
  }
 },
 "nbformat": 4,
 "nbformat_minor": 5
}
